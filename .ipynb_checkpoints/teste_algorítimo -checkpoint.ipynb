{
 "cells": [
  {
   "cell_type": "code",
   "execution_count": 1,
   "metadata": {},
   "outputs": [],
   "source": [
    "import pandas as pd\n",
    "import numpy as np\n",
    "import seaborn as sns\n",
    "from sklearn.metrics import accuracy_score, confusion_matrix, classification_report\n",
    "from sklearn.model_selection import train_test_split\n",
    "from sklearn.linear_model import LogisticRegression\n",
    "from sklearn.pipeline import Pipeline\n",
    "from sklearn.tree import DecisionTreeClassifier\n",
    "from sklearn.ensemble import RandomForestClassifier\n",
    "from sklearn.preprocessing import LabelEncoder, StandardScaler\n",
    "from sklearn.model_selection import cross_validate\n",
    "from sklearn import svm"
   ]
  },
  {
   "cell_type": "code",
   "execution_count": 2,
   "metadata": {},
   "outputs": [],
   "source": [
    "\n",
    "df = pd.read_csv(\"DADOS_ENADE_2018/dataset_enade\", delimiter=\";\")\n",
    "df['NT_GER'] = [str(val).replace(',', '.') for val in df['NT_GER']]\n",
    "#cria a coluna Notas convertendo para numerico\n",
    "\n",
    "\n",
    "df['Notas']=pd.to_numeric(df.NT_GER,errors='coerce')\n",
    "df.dropna(subset=['Notas'], inplace=True) # removendo as linhas cuja coluna de notas está vazia"
   ]
  },
  {
   "cell_type": "code",
   "execution_count": 3,
   "metadata": {},
   "outputs": [
    {
     "name": "stdout",
     "output_type": "stream",
     "text": [
      "1    30661\n",
      "3    30197\n",
      "2    26904\n",
      "Name: classe_notas2, dtype: int64\n"
     ]
    }
   ],
   "source": [
    "lista = []\n",
    "for i in df.itertuples():\n",
    "    nota = i.Notas\n",
    "    \n",
    "    if nota <= 35:\n",
    "        #print(f'<25 {nota}')\n",
    "        lista.append(1)\n",
    "    elif nota >= 35.1 and nota <= 47:\n",
    "        lista.append(2)\n",
    "    elif nota >= 47.1 and nota <= 100:\n",
    "        lista.append(3)\n",
    "df['classe_notas2'] = lista\n",
    "print(df['classe_notas2'].value_counts())"
   ]
  },
  {
   "cell_type": "code",
   "execution_count": 12,
   "metadata": {},
   "outputs": [
    {
     "name": "stdout",
     "output_type": "stream",
     "text": [
      "3    17782\n",
      "1    17518\n",
      "2    17332\n",
      "Name: classe_notas2, dtype: int64\n"
     ]
    },
    {
     "name": "stderr",
     "output_type": "stream",
     "text": [
      "<ipython-input-12-8e8bfb91eed7>:14: SettingWithCopyWarning: \n",
      "A value is trying to be set on a copy of a slice from a DataFrame.\n",
      "Try using .loc[row_indexer,col_indexer] = value instead\n",
      "\n",
      "See the caveats in the documentation: https://pandas.pydata.org/pandas-docs/stable/user_guide/indexing.html#returning-a-view-versus-a-copy\n",
      "  df_alunos_presentes['classe_notas2'] = lista\n"
     ]
    }
   ],
   "source": [
    "df_alunos_presentes = df.query(\"TP_SFG_D1 == 555 & TP_SFG_D2 == 555 & TP_SCE_D1 == 555 & TP_SCE_D2 == 555 & TP_SCE_D3 == 555 & TP_PRES == 555 & TP_PR_GER == 555 & TP_PR_OB_FG == 555 & TP_PR_DI_FG == 555 & TP_PR_OB_CE == 555 & TP_PR_DI_CE == 555\")\n",
    "\n",
    "lista = []\n",
    "for i in df_alunos_presentes.itertuples():\n",
    "    nota = i.Notas\n",
    "    \n",
    "    if nota <= 38:\n",
    "        #print(f'<25 {nota}')\n",
    "        lista.append(1)\n",
    "    elif nota >= 38.1 and nota <= 51:\n",
    "        lista.append(2)\n",
    "    elif nota >= 51.1 and nota <= 100:\n",
    "        lista.append(3)\n",
    "df_alunos_presentes['classe_notas2'] = lista\n",
    "print(df_alunos_presentes['classe_notas2'].value_counts())"
   ]
  },
  {
   "cell_type": "code",
   "execution_count": 86,
   "metadata": {},
   "outputs": [],
   "source": [
    "columns_disctart=df[['DS_VT_ACE_OCE',\n",
    " 'DS_VT_ACE_OFG',\n",
    " 'DS_VT_ESC_OCE',\n",
    " 'DS_VT_ESC_OFG',\n",
    " 'DS_VT_GAB_OCE_FIN',\n",
    " 'DS_VT_GAB_OCE_ORIG',\n",
    " 'DS_VT_GAB_OFG_FIN',\n",
    " 'DS_VT_GAB_OFG_ORIG',\n",
    " 'NT_CE',\n",
    " 'NT_CE_D2',\n",
    " 'NT_CE_D3',\n",
    " 'NT_DIS_CE',\n",
    " 'NT_DIS_FG',\n",
    " 'NT_FG',\n",
    " 'NT_FG_D1',\n",
    " 'NT_FG_D1_CT',\n",
    " 'NT_FG_D1_PT',\n",
    " 'NT_FG_D2',\n",
    " 'NT_FG_D2_CT',\n",
    " 'NT_FG_D2_PT',\n",
    " 'NT_GER',\n",
    "'NT_CE_D1',\n",
    " 'NT_OBJ_CE',\n",
    " 'NT_OBJ_FG',\n",
    "'NU_ITEM_OCE',\n",
    " 'NU_ITEM_OCE_N',\n",
    " 'NU_ITEM_OCE_X',\n",
    " 'NU_ITEM_OCE_Z',\n",
    " 'NU_ITEM_OFG',\n",
    " 'NU_ITEM_OFG_N',\n",
    " 'NU_ITEM_OFG_X',\n",
    " 'NU_ITEM_OFG_Z',\n",
    "'Notas',\n",
    "'TP_INSCRICAO',\n",
    " 'TP_INSCRICAO_ADM',\n",
    " 'TP_PRES',\n",
    " 'TP_PR_DI_CE',\n",
    " 'TP_PR_DI_FG',\n",
    " 'TP_PR_GER',\n",
    " 'TP_PR_OB_CE',\n",
    " 'TP_PR_OB_FG',\n",
    "'TP_SFG_D2',\n",
    " 'TP_SCE_D1',\n",
    " 'TP_SCE_D2',\n",
    " 'TP_SCE_D3',\n",
    "'TP_SFG_D1',\n",
    " 'classe_notas2']]\n",
    "\n",
    "columns_disctart.columns\n",
    "\n",
    "#lista = ['CO_RS_I8','QE_I13','QE_I17','QE_I11']\n",
    "lista = ['QE_I12','CO_MODALIDADE','CO_GRUPO','CO_RS_I8','QE_I13','QE_I17','QE_I11']\n",
    "columns = list(set(df.columns) - set(lista))\n",
    "\n",
    "columns = list(set(columns) - set(columns_disctart.columns))"
   ]
  },
  {
   "cell_type": "code",
   "execution_count": 91,
   "metadata": {},
   "outputs": [
    {
     "name": "stdout",
     "output_type": "stream",
     "text": [
      "pronto\n"
     ]
    }
   ],
   "source": [
    "\n",
    "\n",
    "#Criação dos pipelines dos algorítimos: LogisticRegression, RandomForestClassifier e DecisionTreeClassifier\n",
    "data = {}\n",
    "maior = 0\n",
    "coluna_maior = ''\n",
    "pipe_rf = Pipeline([\n",
    "    ('normalizer', StandardScaler()),\n",
    "    ('clf', RandomForestClassifier()) \n",
    "])\n",
    "pipe_dt  =  Pipeline ([\n",
    "    ('normalizer', StandardScaler()),\n",
    "    ( 'clf' , DecisionTreeClassifier ( random_state = 42 ))\n",
    "])\n",
    "\n",
    "for coluna_teste in columns[:]:\n",
    "    #print(coluna_teste)\n",
    "    df_classificar = df_alunos_presentes[[coluna_teste,'QE_I12','CO_MODALIDADE','CO_GRUPO','CO_RS_I8','QE_I13','QE_I17','QE_I11','Notas','classe_notas2']]\n",
    "    df_classificar = df_classificar.dropna() #Removendo as linhas cuja alguma celula pertencente a essas coluna está vazia\n",
    "    #print(len(df_classificar))\n",
    "\n",
    "    lista = df_classificar.columns[:-2]\n",
    "    for nome_coluna in lista:\n",
    "        if type(df[nome_coluna][0]) != np.int64 and type(df[nome_coluna][0]) != np.float64: #Se a coluna for numerica, não precisa normalizar\n",
    "            df_classificar[nome_coluna] = df_classificar[nome_coluna].apply(lambda x: x.replace('A','1').replace('B', '2').replace('C', '3').replace('D', '4').replace('E', '5').replace('G', '6').replace('F', '7').replace('H', '8').replace('I', '9').replace('J', '10').replace('K', '11').replace('E', '5').replace('G', '6').replace('F', '7').replace('H', '8').replace('I', '9').replace('J', '10').replace('K', '11').replace('L', '12').replace('M', '13').replace('.', '12').replace('*', '13'))\n",
    "            df_classificar[nome_coluna] = df_classificar[nome_coluna].astype(int)\n",
    "\n",
    "    #separa conjunto de treino de conjunto de testes\n",
    "\n",
    "    X = df_classificar.iloc[:,:-2]\n",
    "    Y = df_classificar.classe_notas2\n",
    "\n",
    "    x_train,x_test,y_train,y_test = train_test_split(X, Y, test_size=0.2, random_state=2020)\n",
    "\n",
    "    ##################\n",
    "\n",
    "    #print('Floresta Aleatoria')\n",
    "    model = pipe_dt.fit(x_train, y_train)\n",
    "    prediction = model.predict(x_test)\n",
    "    \n",
    "    data[coluna_teste] = round(accuracy_score(y_test, prediction)*100,2)\n",
    "    #if maior < round(accuracy_score(y_test, prediction)*100,2):\n",
    "    #    coluna_maior = df_classificar[coluna_teste]\n",
    "    #    maior = round(accuracy_score(y_test, prediction)*100,2)\n",
    "    #    data[coluna_maior.name] = maior\n",
    "    ##################\n",
    "print('pronto')"
   ]
  },
  {
   "cell_type": "code",
   "execution_count": 92,
   "metadata": {},
   "outputs": [
    {
     "name": "stdout",
     "output_type": "stream",
     "text": [
      "[('QE_I26', 43.46), ('QE_I46', 43.71), ('QE_I62', 44.19), ('CO_CURSO', 44.21), ('QE_I37', 44.38), ('QE_I38', 44.43), ('QE_I65', 44.45), ('QE_I53', 44.46), ('QE_I42', 44.48), ('QE_I58', 44.55), ('QE_I67', 44.58), ('QE_I40', 44.63), ('QE_I32', 44.68), ('QE_I39', 44.73), ('QE_I41', 44.86), ('CO_IES', 44.89), ('QE_I63', 44.9), ('QE_I33', 44.94), ('QE_I36', 44.95), ('QE_I44', 44.96), ('QE_I64', 44.98), ('CO_MUNIC_CURSO', 45.0), ('NU_IDADE', 45.01), ('QE_I43', 45.05), ('QE_I61', 45.05), ('QE_I52', 45.08), ('QE_I20', 45.1), ('QE_I59', 45.11), ('QE_I68', 45.11), ('QE_I60', 45.13), ('QE_I16', 45.19), ('QE_I48', 45.19), ('QE_I51', 45.21), ('QE_I30', 45.29), ('ANO_FIM_EM', 45.33), ('QE_I49', 45.35), ('QE_I31', 45.36), ('QE_I22', 45.38), ('QE_I10', 45.39), ('QE_I54', 45.4), ('QE_I55', 45.4), ('QE_I47', 45.48), ('QE_I57', 45.5), ('QE_I45', 45.58), ('QE_I56', 45.6), ('QE_I34', 45.63), ('QE_I07', 45.64), ('QE_I28', 45.7), ('QE_I50', 45.71), ('QE_I66', 45.74), ('QE_I25', 45.76), ('QE_I05', 45.83), ('QE_I08', 45.93), ('QE_I29', 45.93), ('QE_I09', 46.02), ('QE_I35', 46.06), ('QE_I27', 46.22), ('ANO_IN_GRAD', 46.27), ('QE_I04', 46.34), ('CO_RS_I3', 46.34), ('CO_RS_I1', 46.45), ('QE_I23', 46.48), ('CO_RS_I4', 46.52), ('QE_I19', 46.53), ('QE_I06', 46.6), ('CO_RS_I6', 46.6), ('CO_ORGACAD', 46.75), ('QE_I24', 46.78), ('CO_UF_CURSO', 46.8), ('CO_RS_I7', 46.81), ('CO_REGIAO_CURSO', 46.82), ('CO_RS_I2', 46.9), ('CO_RS_I5', 46.91), ('CO_RS_I9', 47.07), ('QE_I15', 47.11), ('TP_SEXO', 47.13), ('QE_I21', 47.23), ('QE_I18', 47.41), ('QE_I01', 47.43), ('CO_TURNO_GRADUACAO', 47.54), ('CO_CATEGAD', 47.71), ('QE_I02', 47.74), ('QE_I03', 48.19), ('QE_I14', 48.25), ('NU_ANO', 48.32)]\n"
     ]
    }
   ],
   "source": [
    "#print(coluna_maior.name)\n",
    "#print(maior)\n",
    "#print(sorted(data))\n",
    "a = sorted(data.items(), key=lambda x: x[1])  \n",
    "print(a)\n"
   ]
  },
  {
   "cell_type": "code",
   "execution_count": 58,
   "metadata": {},
   "outputs": [
    {
     "data": {
      "text/plain": [
       "{'a': 25, 'b': 25, 'c': 25}"
      ]
     },
     "execution_count": 58,
     "metadata": {},
     "output_type": "execute_result"
    }
   ],
   "source": [
    "data = {}\n",
    "for i in ['a','b','c']:\n",
    "    data[i] = 25\n",
    "data"
   ]
  },
  {
   "cell_type": "code",
   "execution_count": 9,
   "metadata": {},
   "outputs": [
    {
     "name": "stdout",
     "output_type": "stream",
     "text": [
      "Floresta Aleatoria\n",
      "\n",
      "accuracy: 48.23%\n",
      "\n",
      " [[3985  964 1072]\n",
      " [2746 1080 1485]\n",
      " [1846  938 3367]]\n",
      "\n",
      "               precision    recall  f1-score   support\n",
      "\n",
      "           1       0.46      0.66      0.55      6021\n",
      "           2       0.36      0.20      0.26      5311\n",
      "           3       0.57      0.55      0.56      6151\n",
      "\n",
      "    accuracy                           0.48     17483\n",
      "   macro avg       0.47      0.47      0.45     17483\n",
      "weighted avg       0.47      0.48      0.46     17483\n",
      "\n"
     ]
    }
   ],
   "source": [
    "#separa conjunto de treino de conjunto de testes\n",
    "\n",
    "X = df_classificar.iloc[:,:-2]\n",
    "Y = df_classificar.classe_notas2\n",
    "\n",
    "x_train,x_test,y_train,y_test = train_test_split(X, Y, test_size=0.2, random_state=2020)\n",
    "\n",
    "#Criação dos pipelines dos algorítimos: LogisticRegression, RandomForestClassifier e DecisionTreeClassifier\n",
    "pipe_lr = Pipeline([\n",
    "    ('normalizer', StandardScaler()), #Step1 - normalize data\n",
    "    ('clf', LogisticRegression()) #step2 - classifier\n",
    "])\n",
    "\n",
    "pipe_rf = Pipeline([\n",
    "    ('normalizer', StandardScaler()),\n",
    "    ('clf', RandomForestClassifier()) \n",
    "])\n",
    "\n",
    "\n",
    "pipe_dt  =  Pipeline ([\n",
    "    ('normalizer', StandardScaler()),\n",
    "    ( 'clf' , DecisionTreeClassifier ( random_state = 42 ))\n",
    "])\n",
    "\n",
    "##################\n",
    "\n",
    "print('Floresta Aleatoria')\n",
    "model = pipe_dt.fit(x_train, y_train)\n",
    "prediction = model.predict(x_test)\n",
    "print(\"\\naccuracy: {}%\".format(round(accuracy_score(y_test, prediction)*100,2)))\n",
    "\n",
    "print('\\n',confusion_matrix(y_test, prediction))\n",
    "print('\\n',classification_report(y_test, prediction))\n",
    "\n",
    "##################\n"
   ]
  },
  {
   "cell_type": "code",
   "execution_count": 10,
   "metadata": {},
   "outputs": [
    {
     "data": {
      "text/plain": [
       "48.23"
      ]
     },
     "execution_count": 10,
     "metadata": {},
     "output_type": "execute_result"
    }
   ],
   "source": [
    "round(accuracy_score(y_test, prediction)*100,2)"
   ]
  },
  {
   "cell_type": "code",
   "execution_count": null,
   "metadata": {},
   "outputs": [],
   "source": []
  }
 ],
 "metadata": {
  "kernelspec": {
   "display_name": "Python 3",
   "language": "python",
   "name": "python3"
  },
  "language_info": {
   "codemirror_mode": {
    "name": "ipython",
    "version": 3
   },
   "file_extension": ".py",
   "mimetype": "text/x-python",
   "name": "python",
   "nbconvert_exporter": "python",
   "pygments_lexer": "ipython3",
   "version": "3.8.3"
  }
 },
 "nbformat": 4,
 "nbformat_minor": 4
}
